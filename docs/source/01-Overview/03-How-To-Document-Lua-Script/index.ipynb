{
 "cells": [
  {
   "cell_type": "raw",
   "id": "f53c9169-6a93-4b60-8bdc-931e1a934e35",
   "metadata": {
    "editable": true,
    "raw_mimetype": "text/restructuredtext",
    "slideshow": {
     "slide_type": ""
    },
    "tags": []
   },
   "source": [
    ".. _how-to-document-lua-script:\n",
    "\n",
    "How to Document Lua Script\n",
    "================================================================================\n",
    "这个项目既然是学习笔记, 那么就应该有一个记笔记的规范. 在我看来, 学习代码的笔记最好的形式就是 Jupyter Notebook. 它既有代码, 又有文档, 还有输入输出. 这种交互式的学习方式可以大幅降低学习难度. 也方便以后回顾.\n",
    "\n",
    "举例来说, 我们编写了下面这个 ``hello.lua`` 脚本. 首先我当然是按照 :ref:`lua-local-development-environment` 中的方式本地开发调试. 调试完之后我就用 Sphinx Doc 中的 dropdown + literalincllude 来把源码嵌入到文档中.\n",
    "\n",
    ".. dropdown:: hello.lua\n",
    "\n",
    "    .. literalinclude:: ./hello.lua\n",
    "       :language: lua\n",
    "       :linenos:\n",
    "\n",
    "然后再用下面这段小 Python 程序在 Jupyter Notebook 中执行 lua, 打印输出."
   ]
  },
  {
   "cell_type": "code",
   "execution_count": 1,
   "id": "7e78f506-aa76-4eaa-a96d-a54ef987991d",
   "metadata": {
    "editable": true,
    "slideshow": {
     "slide_type": ""
    },
    "tags": []
   },
   "outputs": [
    {
     "name": "stdout",
     "output_type": "stream",
     "text": [
      "Hello World!\n"
     ]
    }
   ],
   "source": [
    "import subprocess\n",
    "\n",
    "_ = subprocess.run([\"lua\", \"hello.lua\"])"
   ]
  }
 ],
 "metadata": {
  "kernelspec": {
   "display_name": "Python 3 (ipykernel)",
   "language": "python",
   "name": "python3"
  },
  "language_info": {
   "codemirror_mode": {
    "name": "ipython",
    "version": 3
   },
   "file_extension": ".py",
   "mimetype": "text/x-python",
   "name": "python",
   "nbconvert_exporter": "python",
   "pygments_lexer": "ipython3",
   "version": "3.10.10"
  }
 },
 "nbformat": 4,
 "nbformat_minor": 5
}
