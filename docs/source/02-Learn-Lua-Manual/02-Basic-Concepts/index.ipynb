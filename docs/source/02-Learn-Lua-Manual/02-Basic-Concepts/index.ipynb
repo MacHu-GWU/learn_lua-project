{
 "cells": [
  {
   "cell_type": "raw",
   "id": "6e08a533-1362-49e2-8e3c-0d7f92ef811e",
   "metadata": {
    "editable": true,
    "raw_mimetype": "text/restructuredtext",
    "slideshow": {
     "slide_type": ""
    },
    "tags": []
   },
   "source": [
    ".. _basic-concepts:\n",
    "\n",
    "2. Basic Concepts\n",
    "================================================================================\n",
    "本文主要参考自官方文档中的 Basic Concepts 一章.\n",
    "\n",
    "- https://www.lua.org/manual/5.3/manual.html\n",
    "- https://cloudwu.github.io/lua53doc/manual.html\n",
    "\n",
    "\n",
    "在开始学习之前, 我们先来看一下怎么 debug lua 脚本. 下面给出了一个例子, 展示了如何在 lua 中写 comment, 以及如何将值打印出来. 打印值将是我们最常用的 debug 方式.\n",
    "\n",
    ".. dropdown:: how_to_debug.lua\n",
    "\n",
    "    .. literalinclude:: ./how_to_debug.lua\n",
    "       :language: lua\n",
    "       :linenos:"
   ]
  },
  {
   "cell_type": "code",
   "execution_count": 1,
   "id": "8f11c5d0-a2d2-45e3-9079-8963142c9891",
   "metadata": {
    "editable": true,
    "slideshow": {
     "slide_type": ""
    },
    "tags": []
   },
   "outputs": [
    {
     "name": "stdout",
     "output_type": "stream",
     "text": [
      "1\n",
      "a = 1\n"
     ]
    }
   ],
   "source": [
    "import subprocess\n",
    "\n",
    "subprocess.run([\"lua\", \"how_to_debug.lua\"]);"
   ]
  },
  {
   "cell_type": "raw",
   "id": "df92fd8e-f6cd-4e56-83e6-e5ef75ca798a",
   "metadata": {
    "editable": true,
    "raw_mimetype": "text/restructuredtext",
    "slideshow": {
     "slide_type": ""
    },
    "tags": []
   },
   "source": [
    "2.1 值与类型\n",
    "--------------------------------------------------------------------------------\n",
    "\n",
    ".. dropdown:: value_and_types_1.lua\n",
    "\n",
    "    .. literalinclude:: ./value_and_types_1.lua\n",
    "       :language: lua\n",
    "       :linenos:"
   ]
  },
  {
   "cell_type": "code",
   "execution_count": 2,
   "id": "907f78c4-4806-4df2-8b25-46f0b20e3252",
   "metadata": {
    "editable": true,
    "slideshow": {
     "slide_type": ""
    },
    "tags": []
   },
   "outputs": [
    {
     "name": "stdout",
     "output_type": "stream",
     "text": [
      "a_nil = nil\n",
      "a_boolean = true\n",
      "a_number = 42\n",
      "a_string = Hello World!\n",
      "a_table = table: 0x600000c34000\n",
      "this is a function!\n"
     ]
    }
   ],
   "source": [
    "subprocess.run([\"lua\", \"value_and_types_1.lua\"]);"
   ]
  },
  {
   "cell_type": "raw",
   "id": "dacf82da-8374-4d66-8b0b-dcd09cb7b2ac",
   "metadata": {
    "editable": true,
    "raw_mimetype": "text/restructuredtext",
    "slideshow": {
     "slide_type": ""
    },
    "tags": []
   },
   "source": [
    "2.2 环境与全局环境\n",
    "--------------------------------------------------------------------------------\n",
    "\n",
    ".. dropdown:: local_and_global_variable.lua\n",
    "\n",
    "    .. literalinclude:: ./local_and_global_variable.lua\n",
    "       :language: lua\n",
    "       :linenos:"
   ]
  },
  {
   "cell_type": "code",
   "execution_count": 3,
   "id": "ed2e862b-afb6-4e02-8e4e-4d266efa72bb",
   "metadata": {
    "editable": true,
    "slideshow": {
     "slide_type": ""
    },
    "tags": []
   },
   "outputs": [
    {
     "name": "stdout",
     "output_type": "stream",
     "text": [
      "inside function a = 2\n",
      "outside function a = 2\n",
      "inside function b = 2\n",
      "outside function b = 1\n",
      "inside function c = 2\n",
      "outside function c = 2\n",
      "inside function d = 2\n",
      "outside function d = 1\n"
     ]
    }
   ],
   "source": [
    "subprocess.run([\"lua\", \"local_and_global_variable.lua\"]);"
   ]
  },
  {
   "cell_type": "code",
   "execution_count": null,
   "id": "653be812-99a6-45d4-aaab-c69c122b1b0e",
   "metadata": {
    "editable": true,
    "slideshow": {
     "slide_type": ""
    },
    "tags": []
   },
   "outputs": [],
   "source": []
  }
 ],
 "metadata": {
  "kernelspec": {
   "display_name": "Python 3 (ipykernel)",
   "language": "python",
   "name": "python3"
  },
  "language_info": {
   "codemirror_mode": {
    "name": "ipython",
    "version": 3
   },
   "file_extension": ".py",
   "mimetype": "text/x-python",
   "name": "python",
   "nbconvert_exporter": "python",
   "pygments_lexer": "ipython3",
   "version": "3.10.10"
  }
 },
 "nbformat": 4,
 "nbformat_minor": 5
}
