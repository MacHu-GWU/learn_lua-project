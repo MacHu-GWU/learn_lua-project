{
 "cells": [
  {
   "cell_type": "raw",
   "id": "b18ff8cd-d758-4c75-8dfe-23f195295c5e",
   "metadata": {
    "editable": true,
    "raw_mimetype": "text/restructuredtext",
    "slideshow": {
     "slide_type": ""
    },
    "tags": []
   },
   "source": [
    ".. _class-and-instance:\n",
    "\n",
    "Class and Instance\n",
    "================================================================================\n",
    "\n",
    "\n",
    "Overview\n",
    "--------------------------------------------------------------------------------\n",
    "Lua 语言中的 Table 是一种非常强大的数据结构. 它可以是列表, 也可以是字典, 字典的 key 就是属性. 而 key 对应的 value 则可以是一个函数. 并且 Lua 中还有元表 (metatable) 的设定, 允许你修改一些 table 的内在行为. 基于这些特性, 已经可以完全模拟出面向对象编程了. 类, 属性, 方法, classmethod, 继承, 重载, Mixin 等都可以实现.\n",
    "\n",
    "\n",
    "Define a Class, Create an Instance\n",
    "--------------------------------------------------------------------------------\n",
    ".. dropdown:: class_and_instance.lua\n",
    "\n",
    "    .. literalinclude:: ./class_and_instance.lua\n",
    "       :language: lua\n",
    "       :linenos:\n"
   ]
  },
  {
   "cell_type": "code",
   "execution_count": 1,
   "id": "b57783be-bb5d-463e-b3ff-849ffbefac75",
   "metadata": {
    "editable": true,
    "slideshow": {
     "slide_type": ""
    },
    "tags": []
   },
   "outputs": [
    {
     "name": "stdout",
     "output_type": "stream",
     "text": [
      "Hello, my name is Alice\n"
     ]
    },
    {
     "data": {
      "text/plain": [
       "CompletedProcess(args=['lua', 'class_and_instance.lua'], returncode=0)"
      ]
     },
     "execution_count": 1,
     "metadata": {},
     "output_type": "execute_result"
    },
    {
     "name": "stdout",
     "output_type": "stream",
     "text": [
      "Hello, my name is Bob\n",
      "Bob is studying in grade 10\n"
     ]
    }
   ],
   "source": [
    "import subprocess\n",
    "\n",
    "subprocess.run([\"lua\", \"class_and_instance.lua\"])"
   ]
  },
  {
   "cell_type": "raw",
   "id": "d5b720c6-c646-45a8-81fa-e25d93889198",
   "metadata": {
    "editable": true,
    "raw_mimetype": "text/restructuredtext",
    "slideshow": {
     "slide_type": ""
    },
    "tags": []
   },
   "source": [
    "Subclass (Inheritance)\n",
    "--------------------------------------------------------------------------------\n",
    ".. dropdown:: subclass.lua\n",
    "\n",
    "    .. literalinclude:: ./subclass.lua\n",
    "       :language: lua\n",
    "       :linenos:\n"
   ]
  },
  {
   "cell_type": "code",
   "execution_count": 2,
   "id": "bc13e2f3-569d-40e3-9d9d-484081884c4d",
   "metadata": {
    "editable": true,
    "slideshow": {
     "slide_type": ""
    },
    "tags": []
   },
   "outputs": [
    {
     "name": "stdout",
     "output_type": "stream",
     "text": [
      "Hello, I am Alice\n"
     ]
    },
    {
     "data": {
      "text/plain": [
       "CompletedProcess(args=['lua', 'subclass.lua'], returncode=0)"
      ]
     },
     "execution_count": 2,
     "metadata": {},
     "output_type": "execute_result"
    }
   ],
   "source": [
    "subprocess.run([\"lua\", \"subclass.lua\"])"
   ]
  },
  {
   "cell_type": "code",
   "execution_count": null,
   "id": "9485e168-3e76-4e92-b608-32f5a60fc569",
   "metadata": {
    "editable": true,
    "slideshow": {
     "slide_type": ""
    },
    "tags": []
   },
   "outputs": [],
   "source": []
  }
 ],
 "metadata": {
  "kernelspec": {
   "display_name": "Python 3 (ipykernel)",
   "language": "python",
   "name": "python3"
  },
  "language_info": {
   "codemirror_mode": {
    "name": "ipython",
    "version": 3
   },
   "file_extension": ".py",
   "mimetype": "text/x-python",
   "name": "python",
   "nbconvert_exporter": "python",
   "pygments_lexer": "ipython3",
   "version": "3.10.10"
  }
 },
 "nbformat": 4,
 "nbformat_minor": 5
}
