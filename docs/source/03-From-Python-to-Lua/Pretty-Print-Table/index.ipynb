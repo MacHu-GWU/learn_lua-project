{
 "cells": [
  {
   "cell_type": "raw",
   "id": "67a568d7-1969-4aa0-92e4-0aab9671085a",
   "metadata": {
    "editable": true,
    "raw_mimetype": "text/restructuredtext",
    "slideshow": {
     "slide_type": ""
    },
    "tags": []
   },
   "source": [
    ".. _pretty-print-table:\n",
    "\n",
    "Pretty Print Table\n",
    "==============================================================================\n",
    "在 Python 中打印一个列表和字典默认就会递归打印里面所有的元素, 而 Lua 打印 table 时默认只打印它的 reference. \n",
    "\n",
    "\n",
    "Method 1\n",
    "--------------------------------------------------------------------------------\n",
    "这里我们自己实现了一个递归打印的版本.\n",
    "\n",
    ".. dropdown:: print_hash_table_1.lua\n",
    "\n",
    "    .. literalinclude:: ./print_hash_table_1.lua\n",
    "       :language: lua\n",
    "       :linenos:"
   ]
  },
  {
   "cell_type": "code",
   "execution_count": 1,
   "id": "e79ee24b-9897-4122-8f70-239e5bf28af0",
   "metadata": {
    "editable": true,
    "slideshow": {
     "slide_type": ""
    },
    "tags": []
   },
   "outputs": [
    {
     "name": "stdout",
     "output_type": "stream",
     "text": [
      "==================== person ====================\n",
      "hobbies:\n"
     ]
    },
    {
     "data": {
      "text/plain": [
       "CompletedProcess(args=['lua', 'print_hash_table_1.lua'], returncode=0)"
      ]
     },
     "execution_count": 1,
     "metadata": {},
     "output_type": "execute_result"
    },
    {
     "name": "stdout",
     "output_type": "stream",
     "text": [
      "  1: reading\n",
      "  2: swimming\n",
      "age: 30\n",
      "children:\n",
      "  bob:\n",
      "    name: Bob\n",
      "    age: 8\n",
      "  alice:\n",
      "    name: Alice\n",
      "    age: 5\n",
      "name: John Doe\n",
      "address:\n",
      "  city: Anytown\n",
      "  street: 123 Main St\n",
      "==================== person_list ====================\n",
      "1:\n",
      "  name: Alice\n",
      "  age: 30\n",
      "2:\n",
      "  name: Bob\n",
      "  age: 25\n",
      "3:\n",
      "  name: Charlie\n",
      "  age: 35\n"
     ]
    }
   ],
   "source": [
    "import subprocess\n",
    "\n",
    "subprocess.run([\"lua\", \"print_hash_table_1.lua\"])"
   ]
  },
  {
   "cell_type": "raw",
   "id": "9e7209d1-a80c-49e7-9787-af7f7c06701e",
   "metadata": {
    "editable": true,
    "raw_mimetype": "text/restructuredtext",
    "slideshow": {
     "slide_type": ""
    },
    "tags": []
   },
   "source": [
    "Use serpent\n",
    "--------------------------------------------------------------------------------\n",
    "`serpent <https://luarocks.org/modules/paulclinger/serpent>`_ 是 Lua 的一个库. 最新版本是 `0.30.2 <https://github.com/pkulchenko/serpent/releases/tag/0.30>`_. 我直接将源码下载下来并放在了 Lua 的搜索路径上.\n",
    "\n",
    "\n",
    ".. dropdown:: print_hash_table_2.lua\n",
    "\n",
    "    .. literalinclude:: ./print_hash_table_2.lua\n",
    "       :language: lua\n",
    "       :linenos:\n"
   ]
  },
  {
   "cell_type": "code",
   "execution_count": 2,
   "id": "6a0e40b5-38e9-47d6-8e0f-aceb9317f1f9",
   "metadata": {
    "editable": true,
    "slideshow": {
     "slide_type": ""
    },
    "tags": []
   },
   "outputs": [
    {
     "name": "stdout",
     "output_type": "stream",
     "text": [
      "{\n",
      "  address = {\n",
      "    city = \"Anytown\",\n",
      "    street = \"123 Main St\"\n",
      "  } --[[table: 0x6000024f5080]],\n",
      "  age = 30,\n",
      "  children = {\n",
      "    alice = {\n",
      "      age = 5,\n",
      "      name = \"Alice\"\n",
      "    } --[[table: 0x6000024f5100]],\n",
      "    bob = {\n",
      "      age = 8,\n",
      "      name = \"Bob\"\n",
      "    } --[[table: 0x6000024f5140]]\n",
      "  } --[[table: 0x6000024f50c0]],\n",
      "  hobbies = {\n",
      "    \"reading\",\n",
      "    \"swimming\"\n",
      "  } --[[table: 0x6000024f5040]],\n",
      "  name = \"John Doe\"\n",
      "} --[[table: 0x6000024f5000]]\n",
      "{\n",
      "  {\n",
      "    age = 30,\n",
      "    name = \"Alice\"\n",
      "  } --[[table: 0x6000024f4d80]],\n",
      "  {\n",
      "    age = 25,\n",
      "    name = \"Bob\"\n",
      "  } --[[table: 0x6000024f4f40]],\n",
      "  {\n",
      "    age = 35,\n",
      "    name = \"Charlie\"\n",
      "  } --[[table: 0x6000024f4f80]]\n",
      "} --[[table: 0x6000024f54c0]]\n"
     ]
    },
    {
     "data": {
      "text/plain": [
       "CompletedProcess(args=['lua', 'print_hash_table_2.lua'], returncode=0)"
      ]
     },
     "execution_count": 2,
     "metadata": {},
     "output_type": "execute_result"
    }
   ],
   "source": [
    "import subprocess\n",
    "\n",
    "subprocess.run([\"lua\", \"print_hash_table_2.lua\"])"
   ]
  },
  {
   "cell_type": "code",
   "execution_count": null,
   "id": "e2544568-7d7a-4f1f-9e0c-698c85ddbac6",
   "metadata": {
    "editable": true,
    "slideshow": {
     "slide_type": ""
    },
    "tags": []
   },
   "outputs": [],
   "source": []
  }
 ],
 "metadata": {
  "kernelspec": {
   "display_name": "Python 3 (ipykernel)",
   "language": "python",
   "name": "python3"
  },
  "language_info": {
   "codemirror_mode": {
    "name": "ipython",
    "version": 3
   },
   "file_extension": ".py",
   "mimetype": "text/x-python",
   "name": "python",
   "nbconvert_exporter": "python",
   "pygments_lexer": "ipython3",
   "version": "3.10.10"
  }
 },
 "nbformat": 4,
 "nbformat_minor": 5
}
