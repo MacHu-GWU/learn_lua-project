{
 "cells": [
  {
   "cell_type": "raw",
   "id": "b9b26495-9a46-45c2-9cac-36efa651520e",
   "metadata": {
    "editable": true,
    "raw_mimetype": "text/restructuredtext",
    "slideshow": {
     "slide_type": ""
    },
    "tags": []
   },
   "source": [
    ".. _type-annotation-in-lua:\n",
    "\n",
    "Type Annotation in Lua\n",
    "================================================================================\n",
    "\n",
    "\n",
    "Overview\n",
    "--------------------------------------------------------------------------------\n",
    "Lua 语言本身并没有提供任何 type annotation 的支持. 不过对于不同的 IDE, 有一些工具可以提供 type annotation 的支持. 这些支持不会在运行的时候做任何强制性的检查, 而仅仅为 IDE 辅助和文档生成服务的.\n",
    "\n",
    "在 JetBrain 家的 IDEA 中, `EmmyLua <https://github.com/EmmyLua>`_ 提供了语法高亮, 类型系统, debugger 等支持.\n",
    "\n",
    "在 VSCode 生态中, `lua-language-server (LuaLS) <https://github.com/LuaLS/lua-language-server>`_ 也提供了类似的功能.\n",
    "\n",
    "因为我的主力 IDE 是 IDEA, 所以我就选择 ``EmmyLua`` 了.\n",
    "\n",
    "\n",
    "Resource\n",
    "--------------------------------------------------------------------------------\n",
    "我的学习资料主要来自于问 ChatGPT 和 Claude AI. 另外我还发现一个 `EmmyLua Annotations <https://emmylua.github.io/annotation.html>`_ 的中文文档很不错.\n",
    "\n",
    "\n",
    "Example 1\n",
    "--------------------------------------------------------------------------------\n",
    ".. dropdown:: type_annotation_1.lua\n",
    "\n",
    "    .. literalinclude:: ./type_annotation_1.lua\n",
    "       :language: lua\n",
    "       :linenos:\n"
   ]
  },
  {
   "cell_type": "code",
   "execution_count": 2,
   "id": "259077a9-a540-4a0c-85b0-1f83e6757368",
   "metadata": {
    "editable": true,
    "slideshow": {
     "slide_type": ""
    },
    "tags": []
   },
   "outputs": [
    {
     "name": "stdout",
     "output_type": "stream",
     "text": [
      "a_number = 1\n",
      "a_string = Alice\n"
     ]
    },
    {
     "data": {
      "text/plain": [
       "CompletedProcess(args=['lua', 'type_annotation_1.lua'], returncode=0)"
      ]
     },
     "execution_count": 2,
     "metadata": {},
     "output_type": "execute_result"
    },
    {
     "name": "stdout",
     "output_type": "stream",
     "text": [
      "a_boolean = true\n",
      "a_list = table: 0x600001e54000\n",
      "a_dict = table: 0x600001e54080\n",
      "a_list_of_number = table: 0x600001e54100\n",
      "a_dict_of_string_and_number = table: 0x600001e54140\n",
      "person = table: 0x600001e54180\n",
      "person_list = table: 0x600001e54240\n",
      "another_person_list = table: 0x600001e54200\n",
      "res = 3\n",
      "res = 3\n"
     ]
    }
   ],
   "source": [
    "import subprocess\n",
    "\n",
    "subprocess.run([\"lua\", \"type_annotation_1.lua\"])"
   ]
  },
  {
   "cell_type": "code",
   "execution_count": null,
   "id": "fa8bf4c0-fd89-477c-90e4-311781018499",
   "metadata": {
    "editable": true,
    "slideshow": {
     "slide_type": ""
    },
    "tags": []
   },
   "outputs": [],
   "source": []
  }
 ],
 "metadata": {
  "kernelspec": {
   "display_name": "Python 3 (ipykernel)",
   "language": "python",
   "name": "python3"
  },
  "language_info": {
   "codemirror_mode": {
    "name": "ipython",
    "version": 3
   },
   "file_extension": ".py",
   "mimetype": "text/x-python",
   "name": "python",
   "nbconvert_exporter": "python",
   "pygments_lexer": "ipython3",
   "version": "3.10.10"
  }
 },
 "nbformat": 4,
 "nbformat_minor": 5
}
