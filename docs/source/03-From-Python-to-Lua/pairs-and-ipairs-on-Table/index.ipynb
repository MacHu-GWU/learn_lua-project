{
 "cells": [
  {
   "cell_type": "raw",
   "id": "6e08a533-1362-49e2-8e3c-0d7f92ef811e",
   "metadata": {
    "editable": true,
    "raw_mimetype": "text/restructuredtext",
    "slideshow": {
     "slide_type": ""
    },
    "tags": []
   },
   "source": [
    ".. _pairs-and-ipairs-on-table:\n",
    "\n",
    "Pairs and IPairs on Table\n",
    "================================================================================"
   ]
  },
  {
   "cell_type": "raw",
   "id": "df92fd8e-f6cd-4e56-83e6-e5ef75ca798a",
   "metadata": {
    "editable": true,
    "raw_mimetype": "text/restructuredtext",
    "slideshow": {
     "slide_type": ""
    },
    "tags": []
   },
   "source": [
    "pairs 和 ipairs 功能初探\n",
    "--------------------------------------------------------------------------------\n",
    "pairs 和 ipairs 是两个标准库中的函数, 用于从 Table 数据结构中遍历元素. 简单说来, pairs 是用于遍历 Hash Table (类似于 Python dict) 中的 key, value pair 的, 类似于 Python 中的 dict.items() 方法. 而 ipairs 是用于遍历 Array Table (类似于 Python list) 中的 index 和 item 的, 类似于 Python 中的 enumerate(list) 方法.\n",
    "\n",
    "下面是从 `官方文档 <https://cloudwu.github.io/lua53doc/manual.html>`_ 中摘抄的定义.\n",
    "\n",
    "**pairs (t)**\n",
    "\n",
    "如果 t 有元方法 __pairs, 以 t 为参数调用它, 并返回其返回的前三个值.\n",
    "\n",
    "否则, 返回三个值: next 函数, 表 t, 以及 nil. 因此以下代码::\n",
    "\n",
    "     for k, v in pairs(t) do body end\n",
    "\n",
    "能迭代表 t 中的所有键值对.\n",
    "\n",
    "参见函数 next 中关于迭代过程中修改表的风险.\n",
    "\n",
    "**ipairs (t)**\n",
    "\n",
    "返回三个值 (迭代函数, 表 t 以及 0 ), 如此, 以下代码::\n",
    "\n",
    "     for i,v in ipairs(t) do body end\n",
    "\n",
    "将迭代键值对（1, t[1]), (2, t[2]), ... , 直到第一个空值.\n",
    "\n",
    "**下面是一个大多数人使用这两个函数的例子**\n",
    "\n",
    ".. dropdown:: test0.lua\n",
    "\n",
    "    .. literalinclude:: ./test0.lua\n",
    "       :language: lua\n",
    "       :linenos:\n"
   ]
  },
  {
   "cell_type": "code",
   "execution_count": 1,
   "id": "a725915d-e5e6-4af4-bdbb-218f70ca6022",
   "metadata": {
    "editable": true,
    "slideshow": {
     "slide_type": ""
    },
    "tags": []
   },
   "outputs": [
    {
     "name": "stdout",
     "output_type": "stream",
     "text": [
      "===== pairs =====\n",
      "key = b, value = 200\n",
      "key = c, value = 300\n",
      "key = a, value = 100\n",
      "===== ipairs =====\n",
      "index = 1, value = a\n",
      "index = 2, value = b\n",
      "index = 3, value = c\n"
     ]
    }
   ],
   "source": [
    "import subprocess\n",
    "\n",
    "subprocess.run([\"lua\", \"test0.lua\"]);"
   ]
  },
  {
   "cell_type": "raw",
   "id": "7312780d-fa9a-436b-8528-385483fcb434",
   "metadata": {
    "editable": true,
    "raw_mimetype": "text/restructuredtext",
    "slideshow": {
     "slide_type": ""
    },
    "tags": []
   },
   "source": [
    "Example 1\n",
    "--------------------------------------------------------------------------------\n",
    "从这个例子可以看出, 对于 key 不是从 1 开始的整数的 Hash Table, ipairs 没有效果.\n",
    "\n",
    ".. dropdown:: test1.lua\n",
    "\n",
    "    .. literalinclude:: ./test1.lua\n",
    "       :language: lua\n",
    "       :linenos:"
   ]
  },
  {
   "cell_type": "code",
   "execution_count": 2,
   "id": "907f78c4-4806-4df2-8b25-46f0b20e3252",
   "metadata": {
    "editable": true,
    "slideshow": {
     "slide_type": ""
    },
    "tags": []
   },
   "outputs": [
    {
     "name": "stdout",
     "output_type": "stream",
     "text": [
      "===== pairs =====\n",
      "key = a, value = 100, arg3 = nil\n",
      "key = b, value = 200, arg3 = nil\n",
      "key = c, value = 300, arg3 = nil\n",
      "===== ipairs =====\n"
     ]
    }
   ],
   "source": [
    "subprocess.run([\"lua\", \"test1.lua\"]);"
   ]
  },
  {
   "cell_type": "raw",
   "id": "dacf82da-8374-4d66-8b0b-dcd09cb7b2ac",
   "metadata": {
    "editable": true,
    "raw_mimetype": "text/restructuredtext",
    "slideshow": {
     "slide_type": ""
    },
    "tags": []
   },
   "source": [
    "Example 2\n",
    "--------------------------------------------------------------------------------\n",
    "从这个例子可以看出, 对于 key 不是从 1 开始的整数的 Hash Table, ipairs 没有效果. 只要数字不是 1, 2, 3, ..., 就不可以. 因为它本质上是返回 (1, table[1]), (2, table[2]), ... 直到碰到第一个 nil 为止. 在这种情况下第一个就是 nil, 所以什么也没有返回.\n",
    "\n",
    ".. dropdown:: test2.lua\n",
    "\n",
    "    .. literalinclude:: ./test2.lua\n",
    "       :language: lua\n",
    "       :linenos:"
   ]
  },
  {
   "cell_type": "code",
   "execution_count": 3,
   "id": "ed2e862b-afb6-4e02-8e4e-4d266efa72bb",
   "metadata": {
    "editable": true,
    "slideshow": {
     "slide_type": ""
    },
    "tags": []
   },
   "outputs": [
    {
     "name": "stdout",
     "output_type": "stream",
     "text": [
      "===== pairs =====\n",
      "key = 300, value = 3, arg3 = nil\n",
      "key = 100, value = a, arg3 = nil\n",
      "key = 200, value = b, arg3 = nil\n",
      "===== ipairs =====\n"
     ]
    }
   ],
   "source": [
    "subprocess.run([\"lua\", \"test2.lua\"]);"
   ]
  },
  {
   "cell_type": "raw",
   "id": "63f09062-e562-4c8b-bd09-55c32fc5527f",
   "metadata": {
    "editable": true,
    "raw_mimetype": "text/restructuredtext",
    "slideshow": {
     "slide_type": ""
    },
    "tags": []
   },
   "source": [
    "Example 3\n",
    "--------------------------------------------------------------------------------\n",
    "对于 key 是从整数开始的 Hash Table, ipairs 是有效果的.\n",
    "\n",
    ".. dropdown:: test3.lua\n",
    "\n",
    "    .. literalinclude:: ./test3.lua\n",
    "       :language: lua\n",
    "       :linenos:"
   ]
  },
  {
   "cell_type": "code",
   "execution_count": 4,
   "id": "653be812-99a6-45d4-aaab-c69c122b1b0e",
   "metadata": {
    "editable": true,
    "slideshow": {
     "slide_type": ""
    },
    "tags": []
   },
   "outputs": [
    {
     "name": "stdout",
     "output_type": "stream",
     "text": [
      "===== pairs =====\n",
      "key = 3, value = c, arg3 = nil\n",
      "key = 1, value = a, arg3 = nil\n",
      "key = 2, value = b, arg3 = nil\n",
      "===== ipairs =====\n",
      "key = 1, value = a, arg3 = nil\n",
      "key = 2, value = b, arg3 = nil\n",
      "key = 3, value = c, arg3 = nil\n"
     ]
    }
   ],
   "source": [
    "subprocess.run([\"lua\", \"test3.lua\"]);"
   ]
  },
  {
   "cell_type": "raw",
   "id": "11a7830e-c1fa-4076-8131-f9b368fb1a87",
   "metadata": {
    "editable": true,
    "raw_mimetype": "text/restructuredtext",
    "slideshow": {
     "slide_type": ""
    },
    "tags": []
   },
   "source": [
    "Example 4\n",
    "--------------------------------------------------------------------------------\n",
    "从这个例子可以看出, 对于 Array Table, pairs 返回的 key 会是 1, 2, 3, ...\n",
    "\n",
    ".. dropdown:: test4.lua\n",
    "\n",
    "    .. literalinclude:: ./test4.lua\n",
    "       :language: lua\n",
    "       :linenos:"
   ]
  },
  {
   "cell_type": "code",
   "execution_count": 5,
   "id": "58f7d672-0c20-442c-84e7-6f5683dea346",
   "metadata": {
    "editable": true,
    "slideshow": {
     "slide_type": ""
    },
    "tags": []
   },
   "outputs": [
    {
     "name": "stdout",
     "output_type": "stream",
     "text": [
      "===== pairs =====\n",
      "key = 1, value = a, arg3 = nil\n",
      "key = 2, value = b, arg3 = nil\n",
      "key = 3, value = c, arg3 = nil\n",
      "===== ipairs =====\n",
      "key = 1, value = a, arg3 = nil\n",
      "key = 2, value = b, arg3 = nil\n",
      "key = 3, value = c, arg3 = nil\n",
      "===== ipairs =====\n",
      "key = 1, value = a\n",
      "key = 2, value = b\n",
      "key = 3, value = c\n"
     ]
    }
   ],
   "source": [
    "subprocess.run([\"lua\", \"test4.lua\"]);"
   ]
  },
  {
   "cell_type": "raw",
   "id": "abd7050b-1940-4bc3-a68d-94d84212a796",
   "metadata": {
    "editable": true,
    "raw_mimetype": "text/restructuredtext",
    "slideshow": {
     "slide_type": ""
    },
    "tags": []
   },
   "source": [
    "Example 5\n",
    "--------------------------------------------------------------------------------\n",
    "从这个例子可以看出, 对于 Array Table, pairs 返回的 key 会是 1, 2, 3, ...\n",
    "\n",
    ".. dropdown:: test5.lua\n",
    "\n",
    "    .. literalinclude:: ./test5.lua\n",
    "       :language: lua\n",
    "       :linenos:"
   ]
  },
  {
   "cell_type": "code",
   "execution_count": 6,
   "id": "7e60da89-7e14-43b6-9da8-d652c4c3fad4",
   "metadata": {
    "editable": true,
    "slideshow": {
     "slide_type": ""
    },
    "tags": []
   },
   "outputs": [
    {
     "name": "stdout",
     "output_type": "stream",
     "text": [
      "===== pairs =====\n",
      "key = 1, value = 100, arg3 = nil\n",
      "key = 2, value = 200, arg3 = nil\n",
      "key = 3, value = 300, arg3 = nil\n",
      "===== ipairs =====\n",
      "key = 1, value = 100, arg3 = nil\n",
      "key = 2, value = 200, arg3 = nil\n",
      "key = 3, value = 300, arg3 = nil\n"
     ]
    }
   ],
   "source": [
    "subprocess.run([\"lua\", \"test5.lua\"]);"
   ]
  },
  {
   "cell_type": "raw",
   "id": "bcfc30a9-80ab-40f9-a280-62630d1f89f7",
   "metadata": {
    "editable": true,
    "raw_mimetype": "text/restructuredtext",
    "slideshow": {
     "slide_type": ""
    },
    "tags": []
   },
   "source": [
    "Example 6\n",
    "--------------------------------------------------------------------------------\n",
    ".. dropdown:: test6.lua\n",
    "\n",
    "    .. literalinclude:: ./test6.lua\n",
    "       :language: lua\n",
    "       :linenos:"
   ]
  },
  {
   "cell_type": "code",
   "execution_count": 7,
   "id": "7734b58a-c665-43bf-80f0-028b998b984a",
   "metadata": {
    "editable": true,
    "slideshow": {
     "slide_type": ""
    },
    "tags": []
   },
   "outputs": [
    {
     "name": "stdout",
     "output_type": "stream",
     "text": [
      "===== pairs =====\n",
      "key = 1, value = 1, arg3 = nil\n",
      "key = 2, value = 2, arg3 = nil\n",
      "key = 3, value = 3, arg3 = nil\n",
      "===== ipairs =====\n",
      "key = 1, value = 1, arg3 = nil\n",
      "key = 2, value = 2, arg3 = nil\n",
      "key = 3, value = 3, arg3 = nil\n"
     ]
    }
   ],
   "source": [
    "subprocess.run([\"lua\", \"test6.lua\"]);"
   ]
  },
  {
   "cell_type": "code",
   "execution_count": null,
   "id": "d7297ba1-9a68-444a-ac84-ad52079a84fe",
   "metadata": {
    "editable": true,
    "slideshow": {
     "slide_type": ""
    },
    "tags": []
   },
   "outputs": [],
   "source": []
  }
 ],
 "metadata": {
  "kernelspec": {
   "display_name": "Python 3 (ipykernel)",
   "language": "python",
   "name": "python3"
  },
  "language_info": {
   "codemirror_mode": {
    "name": "ipython",
    "version": 3
   },
   "file_extension": ".py",
   "mimetype": "text/x-python",
   "name": "python",
   "nbconvert_exporter": "python",
   "pygments_lexer": "ipython3",
   "version": "3.10.10"
  }
 },
 "nbformat": 4,
 "nbformat_minor": 5
}
