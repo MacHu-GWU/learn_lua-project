{
 "cells": [
  {
   "cell_type": "raw",
   "id": "8822c570-a06d-4cd4-814a-1d2ce19c2d54",
   "metadata": {
    "editable": true,
    "raw_mimetype": "text/restructuredtext",
    "slideshow": {
     "slide_type": ""
    },
    "tags": []
   },
   "source": [
    ".. _my-old-doc:\n",
    "\n",
    "My Old Doc\n",
    "================================================================================\n",
    "\n",
    ".. note::\n",
    "\n",
    "    这是我以前写的文档, 还没想好怎么将其重新组织放到这个项目中.\n",
    "\n",
    "本文主要参考自官方文档中的 Basic Concepts 一章.\n",
    "\n",
    "- https://www.lua.org/manual/5.3/manual.html\n",
    "- https://cloudwu.github.io/lua53doc/manual.html\n",
    "\n",
    "\n",
    "Lua 中一共有这么 8 种基本数据类型:\n",
    "\n",
    "- nil: 类似于 None\n",
    "- boolean: true 和 false\n",
    "- number: 整数和浮点都是这个\n",
    "- string\n",
    "- function: 函数也是一个数据类型\n",
    "- userdata\n",
    "- thread\n",
    "- table: 万能数据结构, 即是列表, 也是字典, 还是面向对象的类\n",
    "\n",
    ".. dropdown:: number_plus_minus_multiply_divide.lua\n",
    "\n",
    "    .. literalinclude:: ./number_plus_minus_multiply_divide.lua\n",
    "       :language: lua\n",
    "       :linenos:"
   ]
  },
  {
   "cell_type": "code",
   "execution_count": 16,
   "id": "9120a319-9bcc-4a34-9e44-682b4f26c231",
   "metadata": {
    "editable": true,
    "slideshow": {
     "slide_type": ""
    },
    "tags": []
   },
   "outputs": [
    {
     "name": "stdout",
     "output_type": "stream",
     "text": [
      "a = 2\n",
      "b = 2\n",
      "c = 2\n",
      "a + b = 8\n",
      "a - b = 8\n",
      "a * b = 12\n",
      "a / b = 0.33333333333333\n",
      "b / a = 3.0\n",
      "c / a = 4.5\n"
     ]
    }
   ],
   "source": [
    "import subprocess\n",
    "\n",
    "subprocess.run([\"lua\", \"number_plus_minus_multiply_divide.lua\"]);"
   ]
  },
  {
   "cell_type": "raw",
   "id": "7d132ebb-66bb-43b7-9bd8-efa7b5903b3e",
   "metadata": {
    "editable": true,
    "raw_mimetype": "text/restructuredtext",
    "slideshow": {
     "slide_type": ""
    },
    "tags": []
   },
   "source": [
    "String\n",
    "------------------------------------------------------------------------------\n",
    "\n",
    "\n",
    "字符串拼接\n",
    "~~~~~~~~~~~~~~~~~~~~~~~~~~~~~~~~~~~~~~~~~~~~~~~~~~~~~~~~~~~~~~~~~~~~~~~~~~~~~~\n",
    "两个点 ``..`` 是字符串拼接. 相当于 Python 中的 ``s = \"b\" + s``.\n",
    "\n",
    ".. dropdown:: string_01_concatenate.lua\n",
    "\n",
    "    .. literalinclude:: ./string_01_concatenate.lua\n",
    "       :language: lua\n",
    "       :linenos:"
   ]
  },
  {
   "cell_type": "code",
   "execution_count": 17,
   "id": "79f697cb-b8d7-479e-a6e1-bc55e13c85e0",
   "metadata": {
    "editable": true,
    "slideshow": {
     "slide_type": ""
    },
    "tags": []
   },
   "outputs": [
    {
     "name": "stdout",
     "output_type": "stream",
     "text": [
      "s = a\n",
      "s = ba\n",
      "s = dcba\n",
      "s = edcba\n"
     ]
    }
   ],
   "source": [
    "subprocess.run([\"lua\", \"string_01_concatenate.lua\"]);"
   ]
  },
  {
   "cell_type": "raw",
   "id": "58ddae54-f9f0-4630-b61d-451f8e28f1d1",
   "metadata": {
    "editable": true,
    "raw_mimetype": "text/restructuredtext",
    "slideshow": {
     "slide_type": ""
    },
    "tags": []
   },
   "source": [
    "Function\n",
    "------------------------------------------------------------------------------\n",
    "在 Lua 中定义函数非常简单, 其中 ``function``, ``return``, ``end`` 是关键字.\n",
    "\n",
    ".. code-block:: lua\n",
    "\n",
    "    function func_name(arg1, arg2)\n",
    "        ...\n",
    "        return result\n",
    "    end\n",
    "\n",
    "\n",
    "定义函数\n",
    "~~~~~~~~~~~~~~~~~~~~~~~~~~~~~~~~~~~~~~~~~~~~~~~~~~~~~~~~~~~~~~~~~~~~~~~~~~~~~~\n",
    "第一个例子, 函数里面可以有参数, Lua 是动态语言, 参数是没有类型的. 如果一个参数被定义了, 但是却没有被赋值, 那么它的默认值是 nil.\n",
    "\n",
    ".. dropdown:: function_01_define_a_func.lua\n",
    "\n",
    "    .. literalinclude:: ./function_01_define_a_func.lua\n",
    "       :language: lua\n",
    "       :linenos:"
   ]
  },
  {
   "cell_type": "code",
   "execution_count": 18,
   "id": "46c7807b-1eee-4cdb-a261-d101fcdca323",
   "metadata": {
    "editable": true,
    "slideshow": {
     "slide_type": ""
    },
    "tags": []
   },
   "outputs": [
    {
     "name": "stdout",
     "output_type": "stream",
     "text": [
      "msg = hello alice\n",
      "res = success\n",
      "msg = nil\n"
     ]
    }
   ],
   "source": [
    "subprocess.run([\"lua\", \"function_01_define_a_func.lua\"]);"
   ]
  },
  {
   "cell_type": "raw",
   "id": "78c77c09-0e40-468c-a69a-bca397db4a2f",
   "metadata": {
    "editable": true,
    "raw_mimetype": "text/restructuredtext",
    "slideshow": {
     "slide_type": ""
    },
    "tags": []
   },
   "source": [
    "定义多个参数\n",
    "~~~~~~~~~~~~~~~~~~~~~~~~~~~~~~~~~~~~~~~~~~~~~~~~~~~~~~~~~~~~~~~~~~~~~~~~~~~~~~\n",
    "\n",
    ".. dropdown:: function_02_multiple_argument.lua\n",
    "\n",
    "    .. literalinclude:: ./function_02_multiple_argument.lua\n",
    "       :language: lua\n",
    "       :linenos:"
   ]
  },
  {
   "cell_type": "code",
   "execution_count": 19,
   "id": "c3b7907b-6757-4e38-8832-520c8a3389df",
   "metadata": {
    "editable": true,
    "slideshow": {
     "slide_type": ""
    },
    "tags": []
   },
   "outputs": [
    {
     "name": "stdout",
     "output_type": "stream",
     "text": [
      "msg1 = hello alice\n",
      "msg2 = hello bob\n"
     ]
    }
   ],
   "source": [
    "subprocess.run([\"lua\", \"function_02_multiple_argument.lua\"]);"
   ]
  },
  {
   "cell_type": "raw",
   "id": "0be3f2e7-247c-4d39-877f-e163536493b2",
   "metadata": {
    "editable": true,
    "raw_mimetype": "text/restructuredtext",
    "slideshow": {
     "slide_type": ""
    },
    "tags": []
   },
   "source": [
    "定义可变长度的参数\n",
    "~~~~~~~~~~~~~~~~~~~~~~~~~~~~~~~~~~~~~~~~~~~~~~~~~~~~~~~~~~~~~~~~~~~~~~~~~~~~~~\n",
    "这里明确两个定义:\n",
    "\n",
    "- 形参 Formal parameter, 定义的形式参数, 可以是任何值\n",
    "- 实参 Actual parameter, 实际传入的参数, 是一个确定值\n",
    "\n",
    "例如下面的 ``a`` 就是形参, 1 就是实参.\n",
    "\n",
    ".. code-block:: lua\n",
    "\n",
    "    function func(a)\n",
    "    ...\n",
    "    end\n",
    "\n",
    "    func(1)\n",
    "\n",
    "下面的例子中我们用 ``...`` 来表示该函数可以接受数量不同的实参. 当这个函数被调用时, 它的所有参数都会被收集到一起. 我们定义了个临时变量 ``args``, 它是个 table, 然后我们就可以用 ``ipairs`` 函数遍历里面的元素了, 当然我们对 index 不感兴趣, 只对 value 该兴趣, 所以可以用 ``_`` 语法 (和 Python 一样) 来忽略 index.\n",
    "\n",
    "\n",
    ".. dropdown:: function_03_any_number_arg.lua\n",
    "\n",
    "    .. literalinclude:: ./function_03_any_number_arg.lua\n",
    "       :language: lua\n",
    "       :linenos:"
   ]
  },
  {
   "cell_type": "code",
   "execution_count": 20,
   "id": "0ce8fdd8-883d-44a1-b412-d0603a98610f",
   "metadata": {
    "editable": true,
    "slideshow": {
     "slide_type": ""
    },
    "tags": []
   },
   "outputs": [
    {
     "name": "stdout",
     "output_type": "stream",
     "text": [
      "alice\n",
      "bob\n"
     ]
    }
   ],
   "source": [
    "subprocess.run([\"lua\", \"function_03_any_number_arg.lua\"]);"
   ]
  },
  {
   "cell_type": "raw",
   "id": "9377d92b-6da1-4d1c-befe-ae97430b30bc",
   "metadata": {
    "editable": true,
    "raw_mimetype": "text/restructuredtext",
    "slideshow": {
     "slide_type": ""
    },
    "tags": []
   },
   "source": [
    "定义 Key Value 风格的参数\n",
    "~~~~~~~~~~~~~~~~~~~~~~~~~~~~~~~~~~~~~~~~~~~~~~~~~~~~~~~~~~~~~~~~~~~~~~~~~~~~~~\n",
    "在 Lua 中给函数传递参数都是 positioned, 也就是只按照位置顺序传递参数. 如果你记不住这些参数的位置, 想要用 key value 的方式调用函数, 那么你只能将函数变为只有一个参数的形式, 而且这个参数是一个 table, 然后在函数内部都用 arg.key 的形式调用这些值即可.\n",
    "\n",
    ".. dropdown:: function_04_key_value_arg.lua\n",
    "\n",
    "    .. literalinclude:: ./function_04_key_value_arg.lua\n",
    "       :language: lua\n",
    "       :linenos:"
   ]
  },
  {
   "cell_type": "code",
   "execution_count": 21,
   "id": "6bf7949e-78f3-40b0-81fe-76cabf2a66aa",
   "metadata": {
    "editable": true,
    "slideshow": {
     "slide_type": ""
    },
    "tags": []
   },
   "outputs": [
    {
     "name": "stdout",
     "output_type": "stream",
     "text": [
      "3\n"
     ]
    }
   ],
   "source": [
    "subprocess.run([\"lua\", \"function_04_key_value_arg.lua\"]);"
   ]
  },
  {
   "cell_type": "raw",
   "id": "6d8947e9-ccda-483f-b403-45b789fca2ec",
   "metadata": {
    "editable": true,
    "raw_mimetype": "text/restructuredtext",
    "slideshow": {
     "slide_type": ""
    },
    "tags": []
   },
   "source": [
    "Table\n",
    "------------------------------------------------------------------------------\n",
    "Lua 中有且只有一个数据结构 Table. 它即是链表, 也是哈希表, 还能实现模块, 面向对象等功能.\n",
    "\n",
    "\n",
    "Table as Dict\n",
    "~~~~~~~~~~~~~~~~~~~~~~~~~~~~~~~~~~~~~~~~~~~~~~~~~~~~~~~~~~~~~~~~~~~~~~~~~~~~~~\n",
    "我们这里用 Python 中的 dict 来类比, 看看把 Table 当哈希表用是什么感觉.\n",
    "\n",
    ".. dropdown:: table_as_dict.lua\n",
    "\n",
    "    .. literalinclude:: ./table_as_dict.lua\n",
    "       :language: lua\n",
    "       :linenos:"
   ]
  },
  {
   "cell_type": "code",
   "execution_count": 22,
   "id": "208279d1-4376-49bd-a878-b1cad16d948f",
   "metadata": {
    "editable": true,
    "slideshow": {
     "slide_type": ""
    },
    "tags": []
   },
   "outputs": [
    {
     "name": "stdout",
     "output_type": "stream",
     "text": [
      "--- access value from key \n",
      "t[\"a\"] = 1\n",
      "--- iterate key value pair:\n",
      "key = a, value = 1\n",
      "key = b, value = 2\n",
      "--- iterate key only pair:\n",
      "key = a\n",
      "key = b\n",
      "--- iterate value only pair:\n",
      "value = 1\n",
      "value = 2\n",
      "--- check if table has certain key\n",
      "table has key \"b\": true\n",
      "table has key \"c\": false\n",
      "--- assign key value pair\n",
      "t[\"b\"] = 20, t[\"c\"] = 30\n",
      "--- delete key value pair\n",
      "key = c, value = 30\n",
      "key = b, value = 20\n",
      "--- get number of pairs in table\n",
      "2\n"
     ]
    }
   ],
   "source": [
    "subprocess.run([\"lua\", \"table_as_dict.lua\"]);"
   ]
  },
  {
   "cell_type": "raw",
   "id": "a27079ad-d0d7-49ad-a7ac-5a94690866ac",
   "metadata": {
    "editable": true,
    "raw_mimetype": "text/restructuredtext",
    "slideshow": {
     "slide_type": ""
    },
    "tags": []
   },
   "source": [
    "Table as List\n",
    "~~~~~~~~~~~~~~~~~~~~~~~~~~~~~~~~~~~~~~~~~~~~~~~~~~~~~~~~~~~~~~~~~~~~~~~~~~~~~~\n",
    "我们这里用 Python 中的 list 来类比, 看看把 Table 当列表用是什么感觉.\n",
    "\n",
    ".. dropdown:: table_as_list.lua\n",
    "\n",
    "    .. literalinclude:: ./table_as_list.lua\n",
    "       :language: lua"
   ]
  },
  {
   "cell_type": "code",
   "execution_count": 23,
   "id": "79f23930-51a4-4740-b2c8-b17e42c8856c",
   "metadata": {
    "editable": true,
    "slideshow": {
     "slide_type": ""
    },
    "tags": []
   },
   "outputs": [
    {
     "name": "stdout",
     "output_type": "stream",
     "text": [
      "--- get element by index, lua index start from 1\n",
      "t[1] = a\n",
      "t[2] = b\n",
      "--- get the last item in the list\n",
      "e\n",
      "--- get the second last item in the list\n",
      "d\n",
      "--- iterate a list\n",
      "ind = 1, value = a\n",
      "ind = 2, value = b\n",
      "ind = 3, value = c\n",
      "ind = 4, value = d\n",
      "ind = 5, value = e\n",
      "--- iterate the slice of the list\n",
      "ind = 2, value = b\n",
      "ind = 3, value = c\n",
      "ind = 4, value = d\n",
      "--- append to the end\n",
      "f\n",
      "--- remove the last element end\n",
      "nil\n",
      "e\n"
     ]
    }
   ],
   "source": [
    "subprocess.run([\"lua\", \"table_as_list.lua\"]);"
   ]
  },
  {
   "cell_type": "raw",
   "id": "5529e354-e6f4-44cd-9246-9afcebcb60eb",
   "metadata": {
    "editable": true,
    "raw_mimetype": "text/restructuredtext",
    "slideshow": {
     "slide_type": ""
    },
    "tags": []
   },
   "source": [
    "Table as Class\n",
    "------------------------------------------------------------------------------\n",
    "在 Lua 中通常用 Table 模拟面向对象. 你直接定一个 Table. 然后它的属性可以是值, 类似于 Python 中的 property. 它的属性还可以是 function, 类似于 Python 中的 method.\n",
    "\n",
    ".. dropdown:: oop_basic.lua\n",
    "\n",
    "    .. literalinclude:: ./oop_basic.lua\n",
    "       :language: lua\n",
    "\n",
    "Reference:\n",
    "\n",
    "- https://www.twle.cn/l/yufei/lua53/lua-basic-object-oriented.html"
   ]
  },
  {
   "cell_type": "code",
   "execution_count": 24,
   "id": "15c88e8d-6da7-4f8c-a767-e7f52ca280df",
   "metadata": {
    "editable": true,
    "slideshow": {
     "slide_type": ""
    },
    "tags": []
   },
   "outputs": [
    {
     "name": "stdout",
     "output_type": "stream",
     "text": [
      "run: Rectangle:new({width=3, height=4})\n",
      "rect1.width = 3\n",
      "rect1:area() = 12\n"
     ]
    }
   ],
   "source": [
    "subprocess.run([\"lua\", \"oop_basic.lua\"]);"
   ]
  },
  {
   "cell_type": "raw",
   "id": "544e404c-a594-431a-83d7-745766c4f3df",
   "metadata": {
    "editable": true,
    "raw_mimetype": "text/restructuredtext",
    "slideshow": {
     "slide_type": ""
    },
    "tags": []
   },
   "source": [
    "Logic Flow\n",
    "------------------------------------------------------------------------------\n",
    "\n",
    "If Else\n",
    "~~~~~~~~~~~~~~~~~~~~~~~~~~~~~~~~~~~~~~~~~~~~~~~~~~~~~~~~~~~~~~~~~~~~~~~~~~~~~~\n",
    "\n",
    ".. dropdown:: logic_flow_if_else.lua\n",
    "\n",
    "    .. literalinclude:: ./logic_flow_if_else.lua\n",
    "       :language: lua\n"
   ]
  },
  {
   "cell_type": "code",
   "execution_count": 25,
   "id": "ba0c6414-3e1e-456f-bdcc-cd13fb5870d1",
   "metadata": {
    "editable": true,
    "slideshow": {
     "slide_type": ""
    },
    "tags": []
   },
   "outputs": [
    {
     "name": "stdout",
     "output_type": "stream",
     "text": [
      "85 > 100\n"
     ]
    }
   ],
   "source": [
    "subprocess.run([\"lua\", \"logic_flow_if_else.lua\"]);"
   ]
  },
  {
   "cell_type": "raw",
   "id": "8cd35617-a344-49d0-a887-d80de04c607d",
   "metadata": {
    "editable": true,
    "raw_mimetype": "text/restructuredtext",
    "slideshow": {
     "slide_type": ""
    },
    "tags": []
   },
   "source": [
    "While\n",
    "~~~~~~~~~~~~~~~~~~~~~~~~~~~~~~~~~~~~~~~~~~~~~~~~~~~~~~~~~~~~~~~~~~~~~~~~~~~~~~\n",
    "\n",
    ".. dropdown:: logic_flow_while.lua\n",
    "\n",
    "    .. literalinclude:: ./logic_flow_while.lua\n",
    "       :language: lua\n"
   ]
  },
  {
   "cell_type": "code",
   "execution_count": 26,
   "id": "a85f5207-5223-4a95-a6dd-072a0a19ced8",
   "metadata": {
    "editable": true,
    "slideshow": {
     "slide_type": ""
    },
    "tags": []
   },
   "outputs": [
    {
     "name": "stdout",
     "output_type": "stream",
     "text": [
      "1\n",
      "2\n",
      "3\n",
      "4\n",
      "5\n"
     ]
    }
   ],
   "source": [
    "subprocess.run([\"lua\", \"logic_flow_while.lua\"]);"
   ]
  },
  {
   "cell_type": "code",
   "execution_count": null,
   "id": "bf76545b-87b7-4b9a-a170-5a8814fafe9a",
   "metadata": {
    "editable": true,
    "slideshow": {
     "slide_type": ""
    },
    "tags": []
   },
   "outputs": [],
   "source": []
  }
 ],
 "metadata": {
  "kernelspec": {
   "display_name": "Python 3 (ipykernel)",
   "language": "python",
   "name": "python3"
  },
  "language_info": {
   "codemirror_mode": {
    "name": "ipython",
    "version": 3
   },
   "file_extension": ".py",
   "mimetype": "text/x-python",
   "name": "python",
   "nbconvert_exporter": "python",
   "pygments_lexer": "ipython3",
   "version": "3.10.10"
  }
 },
 "nbformat": 4,
 "nbformat_minor": 5
}
